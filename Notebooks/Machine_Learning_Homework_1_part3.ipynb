{
  "cells": [
    {
      "cell_type": "markdown",
      "metadata": {
        "id": "view-in-github",
        "colab_type": "text"
      },
      "source": [
        "<a href=\"https://colab.research.google.com/github/ThomasKoutsikos/Machine_Learning_for_Many_Body_Physics_Homework_1/blob/main/Machine_Learning_Homework_1_part3.ipynb\" target=\"_parent\"><img src=\"https://colab.research.google.com/assets/colab-badge.svg\" alt=\"Open In Colab\"/></a>"
      ]
    },
    {
      "cell_type": "markdown",
      "metadata": {
        "id": "eWxxmBLYKoln"
      },
      "source": [
        "# Homework 1: Classifying phases of the Ising model using neural networks\n",
        "\n",
        "PSI 2023-2024\n",
        "\n",
        "Machine Learning for Many-Body Physics\n",
        "\n",
        "April 25, 2024\n",
        "\n",
        "Original Code by Lauren Hayward, Juan Carrasquilla, and Mohamed Hibat Allah"
      ]
    },
    {
      "cell_type": "markdown",
      "metadata": {
        "id": "MuUm4oZtGM77"
      },
      "source": [
        "## Create the data set\n"
      ]
    },
    {
      "cell_type": "code",
      "execution_count": 69,
      "metadata": {
        "id": "ZD4zSMIhdITs",
        "colab": {
          "base_uri": "https://localhost:8080/"
        },
        "outputId": "8426d687-401d-490b-b8b8-6821c0c85be2"
      },
      "outputs": [
        {
          "output_type": "stream",
          "name": "stdout",
          "text": [
            "--2024-05-03 17:38:54--  https://raw.githubusercontent.com/mhibatallah/ML-for-many-body-physics-course/main/FFNN_tutorial_data/x_L30.txt\n",
            "Resolving raw.githubusercontent.com (raw.githubusercontent.com)... 185.199.110.133, 185.199.108.133, 185.199.109.133, ...\n",
            "Connecting to raw.githubusercontent.com (raw.githubusercontent.com)|185.199.110.133|:443... connected.\n",
            "HTTP request sent, awaiting response... 200 OK\n",
            "Length: 18000000 (17M) [text/plain]\n",
            "Saving to: ‘x_L30.txt.14’\n",
            "\n",
            "\rx_L30.txt.14          0%[                    ]       0  --.-KB/s               \rx_L30.txt.14        100%[===================>]  17.17M  --.-KB/s    in 0.1s    \n",
            "\n",
            "2024-05-03 17:38:54 (151 MB/s) - ‘x_L30.txt.14’ saved [18000000/18000000]\n",
            "\n",
            "--2024-05-03 17:38:54--  https://raw.githubusercontent.com/mhibatallah/ML-for-many-body-physics-course/main/FFNN_tutorial_data/y_L30.txt\n",
            "Resolving raw.githubusercontent.com (raw.githubusercontent.com)... 185.199.111.133, 185.199.110.133, 185.199.108.133, ...\n",
            "Connecting to raw.githubusercontent.com (raw.githubusercontent.com)|185.199.111.133|:443... connected.\n",
            "HTTP request sent, awaiting response... 200 OK\n",
            "Length: 20000 (20K) [text/plain]\n",
            "Saving to: ‘y_L30.txt.14’\n",
            "\n",
            "y_L30.txt.14        100%[===================>]  19.53K  --.-KB/s    in 0s      \n",
            "\n",
            "2024-05-03 17:38:54 (80.6 MB/s) - ‘y_L30.txt.14’ saved [20000/20000]\n",
            "\n",
            "--2024-05-03 17:38:54--  https://raw.githubusercontent.com/mhibatallah/ML-for-many-body-physics-course/main/FFNN_tutorial_data/T_L30.txt\n",
            "Resolving raw.githubusercontent.com (raw.githubusercontent.com)... 185.199.108.133, 185.199.109.133, 185.199.110.133, ...\n",
            "Connecting to raw.githubusercontent.com (raw.githubusercontent.com)|185.199.108.133|:443... connected.\n",
            "HTTP request sent, awaiting response... 200 OK\n",
            "Length: 190000 (186K) [text/plain]\n",
            "Saving to: ‘T_L30.txt.14’\n",
            "\n",
            "T_L30.txt.14        100%[===================>] 185.55K  --.-KB/s    in 0.02s   \n",
            "\n",
            "2024-05-03 17:38:54 (11.5 MB/s) - ‘T_L30.txt.14’ saved [190000/190000]\n",
            "\n"
          ]
        }
      ],
      "source": [
        "from google.colab import files\n",
        "import matplotlib.pyplot as plt\n",
        "import numpy as np\n",
        "import torch\n",
        "\n",
        "device = 'cuda' if torch.cuda.is_available() else 'cpu' #To use GPUs in PyTorch\n",
        "\n",
        "!wget https://raw.githubusercontent.com/mhibatallah/ML-for-many-body-physics-course/main/FFNN_tutorial_data/x_L30.txt\n",
        "!wget https://raw.githubusercontent.com/mhibatallah/ML-for-many-body-physics-course/main/FFNN_tutorial_data/y_L30.txt\n",
        "!wget https://raw.githubusercontent.com/mhibatallah/ML-for-many-body-physics-course/main/FFNN_tutorial_data/T_L30.txt"
      ]
    },
    {
      "cell_type": "markdown",
      "source": [
        "# Read the data"
      ],
      "metadata": {
        "id": "ivkJcYhPr3fT"
      }
    },
    {
      "cell_type": "code",
      "source": [
        "x_all     = np.loadtxt( 'x_L30.txt', dtype='int16' )\n",
        "y_all     = np.loadtxt( 'y_L30.txt', dtype='int16' )\n",
        "T_all     = np.loadtxt( 'T_L30.txt', dtype='int16' )\n",
        "L=30 #Lattice Size\n",
        "N_con=10000 #Number of configurations\n",
        "\n",
        "indices_shuffled = np.random.permutation(N_con)\n",
        "x_all = x_all[indices_shuffled,:]\n",
        "y_all = y_all[indices_shuffled]\n",
        "T_all = T_all[indices_shuffled]\n",
        "\n",
        "N_train = int(0.7*N_con)\n",
        "x_train = x_all[0:N_train,:]\n",
        "y_train = y_all[0:N_train]\n",
        "\n",
        "N_validation = int(0.2*N_con)\n",
        "x_validation = x_all[N_train:N_train+N_validation,:]\n",
        "y_validation = y_all[N_train:N_train+N_validation]\n",
        "\n",
        "N_test = int(0.1*N_con)\n",
        "x_test = x_all[N_train+N_validation:,:]\n",
        "y_test = y_all[N_train+N_validation:]"
      ],
      "metadata": {
        "colab": {
          "base_uri": "https://localhost:8080/"
        },
        "id": "obfqnmhXrmYZ",
        "outputId": "6d79fdc4-06f9-49b9-97a7-dc56fe015a2e"
      },
      "execution_count": 70,
      "outputs": [
        {
          "output_type": "stream",
          "name": "stderr",
          "text": [
            "<ipython-input-70-a21d4a8a09e2>:3: DeprecationWarning: loadtxt(): Parsing an integer via a float is deprecated.  To avoid this warning, you can:\n",
            "    * make sure the original data is stored as integers.\n",
            "    * use the `converters=` keyword argument.  If you only use\n",
            "      NumPy 1.23 or later, `converters=float` will normally work.\n",
            "    * Use `np.loadtxt(...).astype(np.int64)` parsing the file as\n",
            "      floating point and then convert it.  (On all NumPy versions.)\n",
            "  (Deprecated NumPy 1.23)\n",
            "  T_all     = np.loadtxt( 'T_L30.txt', dtype='int16' )\n"
          ]
        }
      ]
    },
    {
      "cell_type": "markdown",
      "metadata": {
        "id": "cnVlZ9Gf96KC"
      },
      "source": [
        "## Define the network architecture and training hyperparameters"
      ]
    },
    {
      "cell_type": "code",
      "execution_count": 71,
      "metadata": {
        "id": "EG5DlljlSEvB"
      },
      "outputs": [],
      "source": [
        "%matplotlib inline\n",
        "from IPython import display\n",
        "\n",
        "import time\n",
        "import torch\n",
        "\n",
        "class FeedforwardNN(torch.nn.Module):\n",
        "    def __init__(self, input_size, output_size):\n",
        "        super(FeedforwardNN, self).__init__()\n",
        "\n",
        "        #layer sizes:\n",
        "        self.input_size = input_size\n",
        "        self.output_size = output_size\n",
        "\n",
        "        #functions used within the Feedforward NN:\n",
        "        self.linear1 = torch.nn.Linear(self.input_size,130)\n",
        "        self.linear2 = torch.nn.Linear(130,self.output_size)\n",
        "\n",
        "        self.relu    = torch.nn.ReLU()\n",
        "        self.sigmoid = torch.nn.Sigmoid()\n",
        "        self.softmax = torch.nn.Softmax()\n",
        "\n",
        "    def forward(self, x):\n",
        "        #Layer 1:\n",
        "        linear1_out = self.linear1(x)\n",
        "        a1 = self.sigmoid(linear1_out)\n",
        "        #Layer 2:\n",
        "        linear2_out = self.linear2(a1)\n",
        "        a2 = self.softmax(linear2_out)\n",
        "\n",
        "        #Network output:\n",
        "        aL = a2\n",
        "\n",
        "        return aL\n",
        "\n",
        "input_size = 30*30\n",
        "output_size = 2\n",
        "model = FeedforwardNN(input_size, output_size).to(device)\n",
        "\n",
        "### Store the input data as a PyTorch tensor ###\n",
        "x_train = torch.tensor(x_train, dtype = torch.float).to(device)\n",
        "x_validation = torch.tensor(x_validation, dtype = torch.float).to(device)\n",
        "### One hot encoding ###\n",
        "y_onehot = np.zeros((y_train.size, 2))\n",
        "y_onehot[np.arange(y_train.size),y_train] = 1\n",
        "y_onehot = torch.tensor(y_onehot, dtype = torch.float).to(device)\n",
        "### One hot encoding for validation###\n",
        "y_onehot_val = np.zeros((y_validation.size, 2))\n",
        "y_onehot_val[np.arange(y_validation.size),y_validation] = 1\n",
        "y_onehot_val = torch.tensor(y_onehot_val, dtype = torch.float).to(device)\n",
        "\n",
        "### Use backpropagation to minimize the cost function using the gradient descent algorithm: ###\n",
        "learning_rate = 0.15\n",
        "wd = 0.01\n",
        "mom = 0.8\n",
        "optimizer = torch.optim.SGD(model.parameters(), lr=learning_rate,momentum = mom ,weight_decay=wd)\n",
        "\n",
        "### Cost function: ###\n",
        "cost_func = torch.nn.MSELoss().to(device)\n",
        "#cost_func = torch.nn.CrossEntropyLoss().to(device)\n",
        "N_epochs = 40 # number of times to run gradient descent\n"
      ]
    },
    {
      "cell_type": "markdown",
      "metadata": {
        "id": "KOtexsTq-EfC"
      },
      "source": [
        "## Training"
      ]
    },
    {
      "cell_type": "code",
      "execution_count": 72,
      "metadata": {
        "colab": {
          "base_uri": "https://localhost:8080/",
          "height": 476
        },
        "id": "7ng0FlPl-YNf",
        "outputId": "0be02b97-f75c-4639-93da-ba6e5dbb379b"
      },
      "outputs": [
        {
          "output_type": "stream",
          "name": "stdout",
          "text": [
            "Final Training cost 0.198951\n",
            "Final Validation cost 0.196542\n",
            "Final Training accuracy 0.987143\n",
            "Final Validation accuracy 0.987000\n",
            "\n"
          ]
        },
        {
          "output_type": "display_data",
          "data": {
            "text/plain": [
              "<Figure size 1000x400 with 4 Axes>"
            ],
            "image/png": "[encoded data removed]"
          },
          "metadata": {}
        }
      ],
      "source": [
        "epoch_list    = []\n",
        "cost_training = []\n",
        "cost_validation = []\n",
        "acc_training  = []\n",
        "acc_validation  = []\n",
        "final_accuracy = np.zeros(10)\n",
        "\n",
        "for epoch in range(N_epochs):\n",
        "\n",
        "    optimizer.zero_grad() # sets the gradients to zero (necessary since PyTorch accumulates the gradients)\n",
        "    NN_output_training = model(x_train) # Neural network output\n",
        "    cost_train = cost_func(NN_output_training, y_onehot)\n",
        "    cost_train.backward() #computes the gradients\n",
        "    optimizer.step() #updating the parameters\n",
        "\n",
        "    cost_train = cost_func(NN_output_training, y_onehot).cpu().detach().numpy()\n",
        "    predicted_class = np.argmax(NN_output_training.cpu().detach().numpy(), axis=1)\n",
        "    training_accuracy = np.mean(predicted_class == y_train)\n",
        "\n",
        "\n",
        "    NN_output_validation = model(x_validation) # Neural network output\n",
        "    cost_val = cost_func(NN_output_validation, y_onehot_val).cpu().detach().numpy()\n",
        "    predicted_class = np.argmax(NN_output_validation.cpu().detach().numpy(), axis=1)\n",
        "    accuracy_validation = np.mean(predicted_class == y_validation)\n",
        "\n",
        "    epoch_list.append(epoch)\n",
        "    cost_training.append(cost_train)\n",
        "    cost_validation.append(cost_val)\n",
        "    acc_validation.append(accuracy_validation)\n",
        "    acc_training.append(training_accuracy)\n",
        "\n",
        "    fig = plt.figure(1,figsize=(10,4))\n",
        "    fig.subplots_adjust(hspace=.3,wspace=.3)\n",
        "    plt.clf()\n",
        "\n",
        "    ### Plot the cost function during training: ###\n",
        "    plt.subplot(221)\n",
        "    plt.plot(epoch_list,cost_training,'o-')\n",
        "    plt.xlabel('Epoch')\n",
        "    plt.ylabel('Training cost')\n",
        "\n",
        "    ### Plot the cost function during validation: ###\n",
        "    plt.subplot(222)\n",
        "    plt.plot(epoch_list,cost_validation,'o-')\n",
        "    plt.xlabel('Epoch')\n",
        "    plt.ylabel('Validation cost')\n",
        "\n",
        "    ### Plot the training accuracy: ###\n",
        "    plt.subplot(223)\n",
        "    plt.plot(epoch_list,acc_training,'o-')\n",
        "    plt.xlabel('Epoch')\n",
        "    plt.ylabel('Training accuracy')\n",
        "\n",
        "    ### Plot the validation accuracy: ###\n",
        "    plt.subplot(224)\n",
        "    plt.plot(epoch_list,acc_validation,'o-')\n",
        "    plt.xlabel('Epoch')\n",
        "    plt.ylabel('Validation accuracy')\n",
        "    #plt.pause(0.1)\n",
        "    display.display(plt.gcf())\n",
        "    print( \"Epoch %d:\\n  Training cost %f\\n Validation cost %f\\n Training accuracy %f\\n  Validation accuracy %f\\n\" % (epoch, cost_train,cost_val,training_accuracy,accuracy_validation) )\n",
        "    display.clear_output(wait=True)\n",
        "\n",
        "plt.savefig('Hyperparams_Tuned.pdf', bbox_inches=\"tight\")\n",
        "print(\"Final Training cost %f\\nFinal Validation cost %f\\nFinal Training accuracy %f\\nFinal Validation accuracy %f\\n\" % (cost_train,cost_val,training_accuracy ,accuracy_validation) )\n",
        "\n",
        "\n"
      ]
    },
    {
      "cell_type": "code",
      "execution_count": 74,
      "metadata": {
        "id": "0CwmTP3jHIUA",
        "colab": {
          "base_uri": "https://localhost:8080/",
          "height": 17
        },
        "outputId": "45061fca-5e28-483f-eea7-d1a4d88306aa"
      },
      "outputs": [
        {
          "output_type": "display_data",
          "data": {
            "text/plain": [
              "<IPython.core.display.Javascript object>"
            ],
            "application/javascript": [
              "\n",
              "    async function download(id, filename, size) {\n",
              "      if (!google.colab.kernel.accessAllowed) {\n",
              "        return;\n",
              "      }\n",
              "      const div = document.createElement('div');\n",
              "      const label = document.createElement('label');\n",
              "      label.textContent = `Downloading \"${filename}\": `;\n",
              "      div.appendChild(label);\n",
              "      const progress = document.createElement('progress');\n",
              "      progress.max = size;\n",
              "      div.appendChild(progress);\n",
              "      document.body.appendChild(div);\n",
              "\n",
              "      const buffers = [];\n",
              "      let downloaded = 0;\n",
              "\n",
              "      const channel = await google.colab.kernel.comms.open(id);\n",
              "      // Send a message to notify the kernel that we're ready.\n",
              "      channel.send({})\n",
              "\n",
              "      for await (const message of channel.messages) {\n",
              "        // Send a message to notify the kernel that we're ready.\n",
              "        channel.send({})\n",
              "        if (message.buffers) {\n",
              "          for (const buffer of message.buffers) {\n",
              "            buffers.push(buffer);\n",
              "            downloaded += buffer.byteLength;\n",
              "            progress.value = downloaded;\n",
              "          }\n",
              "        }\n",
              "      }\n",
              "      const blob = new Blob(buffers, {type: 'application/binary'});\n",
              "      const a = document.createElement('a');\n",
              "      a.href = window.URL.createObjectURL(blob);\n",
              "      a.download = filename;\n",
              "      div.appendChild(a);\n",
              "      a.click();\n",
              "      div.remove();\n",
              "    }\n",
              "  "
            ]
          },
          "metadata": {}
        },
        {
          "output_type": "display_data",
          "data": {
            "text/plain": [
              "<IPython.core.display.Javascript object>"
            ],
            "application/javascript": [
              "download(\"download_2b897076-aa0d-4749-aacf-0c76259ccd0f\", \"Hyperparams_Tuned.pdf\", 16728)"
            ]
          },
          "metadata": {}
        }
      ],
      "source": [
        "#Run this cell if you want to save a pdf plot of the results:\n",
        "files.download('Hyperparams_Tuned.pdf')"
      ]
    },
    {
      "cell_type": "markdown",
      "source": [
        "The number of hidden neurons shouldn't be too high. For example for 200 hidden neurons we get highly oscillatory behavior. So if we want to increase the accuracy without making the model overly complex we found that the ideal number of Neurons is roughly 130, with accuracy 0.982.\n",
        "\n",
        "The learning rate is already in the optimal value of 0.15, with accuracy 0.982.\n",
        "\n",
        "After trying various training algorithms, (the previous results were using SGD without momentum) we found that the best is SGD with momentum 0.8 with accuracy 0.987. (We had to decrease the number of training epochs due to overfitting)"
      ],
      "metadata": {
        "id": "7GN113z7tw-R"
      }
    },
    {
      "cell_type": "code",
      "source": [],
      "metadata": {
        "id": "cHVgha23AKR8"
      },
      "execution_count": 73,
      "outputs": []
    }
  ],
  "metadata": {
    "accelerator": "GPU",
    "colab": {
      "provenance": [],
      "gpuType": "T4",
      "include_colab_link": true
    },
    "kernelspec": {
      "display_name": "Python 3",
      "name": "python3"
    },
    "language_info": {
      "codemirror_mode": {
        "name": "ipython",
        "version": 3
      },
      "file_extension": ".py",
      "mimetype": "text/x-python",
      "name": "python",
      "nbconvert_exporter": "python",
      "pygments_lexer": "ipython3",
      "version": "3.7.1"
    }
  },
  "nbformat": 4,
  "nbformat_minor": 0
}
